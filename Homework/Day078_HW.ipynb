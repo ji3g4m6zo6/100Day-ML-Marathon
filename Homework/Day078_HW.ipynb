{
 "cells": [
  {
   "cell_type": "markdown",
   "metadata": {},
   "source": [
    "## Work\n",
    "1. 請嘗試將 preproc_x 替換成以每筆資料的 min/max 進行標準化至 -1 ~ 1 間，再進行訓練\n",
    "2. 請嘗試將 mlp 疊更深 (e.g 5~10 層)，進行訓練後觀察 learning curve 的走勢\n",
    "3. (optional) 請改用 GPU 進行訓練 (如果你有 GPU 的話)，比較使用 CPU 與 GPU 的訓練速度"
   ]
  },
  {
   "cell_type": "code",
   "execution_count": 1,
   "metadata": {},
   "outputs": [
    {
     "name": "stdout",
     "output_type": "stream",
     "text": [
      "Sat Mar 23 19:22:41 2019       \r\n",
      "+-----------------------------------------------------------------------------+\r\n",
      "| NVIDIA-SMI 418.39       Driver Version: 418.39       CUDA Version: 10.1     |\r\n",
      "|-------------------------------+----------------------+----------------------+\r\n",
      "| GPU  Name        Persistence-M| Bus-Id        Disp.A | Volatile Uncorr. ECC |\r\n",
      "| Fan  Temp  Perf  Pwr:Usage/Cap|         Memory-Usage | GPU-Util  Compute M. |\r\n",
      "|===============================+======================+======================|\r\n",
      "|   0  GeForce GTX 106...  On   | 00000000:01:00.0  On |                  N/A |\r\n",
      "| 25%   54C    P0    29W / 120W |    187MiB /  6077MiB |      0%      Default |\r\n",
      "+-------------------------------+----------------------+----------------------+\r\n",
      "                                                                               \r\n",
      "+-----------------------------------------------------------------------------+\r\n",
      "| Processes:                                                       GPU Memory |\r\n",
      "|  GPU       PID   Type   Process name                             Usage      |\r\n",
      "|=============================================================================|\r\n",
      "|    0       952      G   /usr/lib/xorg/Xorg                            96MiB |\r\n",
      "|    0      1066      G   /usr/bin/gnome-shell                          89MiB |\r\n",
      "+-----------------------------------------------------------------------------+\r\n"
     ]
    }
   ],
   "source": [
    "## 確認硬體資源\n",
    "!nvidia-smi"
   ]
  },
  {
   "cell_type": "code",
   "execution_count": 2,
   "metadata": {},
   "outputs": [],
   "source": [
    "import os\n",
    "from tensorflow.python import keras\n",
    "\n",
    "# Try to enable GPU (optional)\n"
   ]
  },
  {
   "cell_type": "code",
   "execution_count": 3,
   "metadata": {},
   "outputs": [],
   "source": [
    "train, test = keras.datasets.cifar10.load_data()"
   ]
  },
  {
   "cell_type": "code",
   "execution_count": 4,
   "metadata": {},
   "outputs": [],
   "source": [
    "## 資料前處理\n",
    "\n",
    "def preproc_x(x, flatten=True):\n",
    "    x = x / 255.\n",
    "    if flatten:\n",
    "        x = x.reshape((len(x), -1))\n",
    "    return x\n",
    "\n",
    "def preproc_y(y, num_classes=10):\n",
    "    if y.shape[-1] == 1:\n",
    "        y = keras.utils.to_categorical(y, num_classes)\n",
    "    return y   "
   ]
  },
  {
   "cell_type": "code",
   "execution_count": 5,
   "metadata": {},
   "outputs": [],
   "source": [
    "x_train, y_train = train\n",
    "x_test, y_test = test\n",
    "\n",
    "# Preproc the inputs\n",
    "x_train = preproc_x(x_train)\n",
    "x_test = preproc_x(x_test)\n",
    "\n",
    "# Preprc the outputs\n",
    "y_train = preproc_y(y_train)\n",
    "y_test = preproc_y(y_test)"
   ]
  },
  {
   "cell_type": "code",
   "execution_count": 6,
   "metadata": {},
   "outputs": [
    {
     "name": "stdout",
     "output_type": "stream",
     "text": [
      "Model: \"model\"\n",
      "_________________________________________________________________\n",
      "Layer (type)                 Output Shape              Param #   \n",
      "=================================================================\n",
      "input_1 (InputLayer)         [(None, 3072)]            0         \n",
      "_________________________________________________________________\n",
      "hidden_layer1 (Dense)        (None, 2048)              6293504   \n",
      "_________________________________________________________________\n",
      "hidden_layer2 (Dense)        (None, 1024)              2098176   \n",
      "_________________________________________________________________\n",
      "hidden_layer3 (Dense)        (None, 512)               524800    \n",
      "_________________________________________________________________\n",
      "hidden_layer4 (Dense)        (None, 256)               131328    \n",
      "_________________________________________________________________\n",
      "hidden_layer5 (Dense)        (None, 128)               32896     \n",
      "_________________________________________________________________\n",
      "output (Dense)               (None, 10)                1290      \n",
      "=================================================================\n",
      "Total params: 9,081,994\n",
      "Trainable params: 9,081,994\n",
      "Non-trainable params: 0\n",
      "_________________________________________________________________\n"
     ]
    }
   ],
   "source": [
    "\"\"\"\n",
    "Your code here\n",
    "\"\"\"\n",
    "def build_mlp(input_shape, output_units=10, num_neurons=[2048, 1024, 512, 256, 128]):\n",
    "    input_layer = keras.layers.Input(input_shape)\n",
    "    \n",
    "    for i, n_units in enumerate(num_neurons):\n",
    "        if i == 0:\n",
    "            x = keras.layers.Dense(units=n_units, activation=\"relu\", name=\"hidden_layer\"+str(i+1))(input_layer)\n",
    "        else:\n",
    "            x = keras.layers.Dense(units=n_units, activation=\"relu\", name=\"hidden_layer\"+str(i+1))(x)\n",
    "    \n",
    "    out = keras.layers.Dense(units=output_units, activation=\"softmax\", name=\"output\")(x)\n",
    "    \n",
    "    model = keras.models.Model(inputs=[input_layer], outputs=[out])\n",
    "    return model\n",
    "\n",
    "model = build_mlp(input_shape=x_train.shape[1:])\n",
    "model.summary()"
   ]
  },
  {
   "cell_type": "code",
   "execution_count": 7,
   "metadata": {},
   "outputs": [],
   "source": [
    "## 超參數設定\n",
    "LEARNING_RATE = 0.001\n",
    "EPOCHS = 100\n",
    "BATCH_SIZE = 256"
   ]
  },
  {
   "cell_type": "code",
   "execution_count": 8,
   "metadata": {},
   "outputs": [],
   "source": [
    "optimizer = keras.optimizers.Adam(lr=LEARNING_RATE)\n",
    "model.compile(loss=\"categorical_crossentropy\", metrics=[\"acc\"], optimizer=optimizer)"
   ]
  },
  {
   "cell_type": "code",
   "execution_count": 9,
   "metadata": {},
   "outputs": [
    {
     "name": "stdout",
     "output_type": "stream",
     "text": [
      "Train on 50000 samples, validate on 10000 samples\n",
      "Epoch 1/100\n",
      "50000/50000 [==============================] - 4s 85us/sample - loss: 2.0028 - acc: 0.2646 - val_loss: 1.7992 - val_acc: 0.3460\n",
      "Epoch 2/100\n",
      "50000/50000 [==============================] - 4s 76us/sample - loss: 1.7349 - acc: 0.3714 - val_loss: 1.6722 - val_acc: 0.3920\n",
      "Epoch 3/100\n",
      "50000/50000 [==============================] - 4s 77us/sample - loss: 1.6339 - acc: 0.4126 - val_loss: 1.6114 - val_acc: 0.4239\n",
      "Epoch 4/100\n",
      "50000/50000 [==============================] - 4s 76us/sample - loss: 1.5590 - acc: 0.4396 - val_loss: 1.5657 - val_acc: 0.4458\n",
      "Epoch 5/100\n",
      "50000/50000 [==============================] - 4s 77us/sample - loss: 1.5163 - acc: 0.4586 - val_loss: 1.5335 - val_acc: 0.4482\n",
      "Epoch 6/100\n",
      "50000/50000 [==============================] - 4s 76us/sample - loss: 1.4619 - acc: 0.4751 - val_loss: 1.4673 - val_acc: 0.4761\n",
      "Epoch 7/100\n",
      "50000/50000 [==============================] - 4s 76us/sample - loss: 1.4258 - acc: 0.4884 - val_loss: 1.4513 - val_acc: 0.4796\n",
      "Epoch 8/100\n",
      "50000/50000 [==============================] - 4s 76us/sample - loss: 1.3897 - acc: 0.5036 - val_loss: 1.4637 - val_acc: 0.4799\n",
      "Epoch 9/100\n",
      "50000/50000 [==============================] - 4s 76us/sample - loss: 1.3550 - acc: 0.5150 - val_loss: 1.4125 - val_acc: 0.4955\n",
      "Epoch 10/100\n",
      "50000/50000 [==============================] - 4s 75us/sample - loss: 1.3216 - acc: 0.5264 - val_loss: 1.3951 - val_acc: 0.5064\n",
      "Epoch 11/100\n",
      "50000/50000 [==============================] - 4s 76us/sample - loss: 1.2845 - acc: 0.5398 - val_loss: 1.4301 - val_acc: 0.4950\n",
      "Epoch 12/100\n",
      "50000/50000 [==============================] - 4s 75us/sample - loss: 1.2650 - acc: 0.5474 - val_loss: 1.3920 - val_acc: 0.5067\n",
      "Epoch 13/100\n",
      "50000/50000 [==============================] - 4s 76us/sample - loss: 1.2280 - acc: 0.5599 - val_loss: 1.3886 - val_acc: 0.5162\n",
      "Epoch 14/100\n",
      "50000/50000 [==============================] - 4s 76us/sample - loss: 1.2005 - acc: 0.5690 - val_loss: 1.3864 - val_acc: 0.5057\n",
      "Epoch 15/100\n",
      "50000/50000 [==============================] - 4s 76us/sample - loss: 1.1668 - acc: 0.5809 - val_loss: 1.3702 - val_acc: 0.5205\n",
      "Epoch 16/100\n",
      "50000/50000 [==============================] - 4s 76us/sample - loss: 1.1313 - acc: 0.5950 - val_loss: 1.3819 - val_acc: 0.5174\n",
      "Epoch 17/100\n",
      "50000/50000 [==============================] - 4s 76us/sample - loss: 1.1009 - acc: 0.6053 - val_loss: 1.3908 - val_acc: 0.5159\n",
      "Epoch 18/100\n",
      "50000/50000 [==============================] - 4s 74us/sample - loss: 1.0672 - acc: 0.6151 - val_loss: 1.4225 - val_acc: 0.5066\n",
      "Epoch 19/100\n",
      "50000/50000 [==============================] - 4s 75us/sample - loss: 1.0392 - acc: 0.6251 - val_loss: 1.4146 - val_acc: 0.5167\n",
      "Epoch 20/100\n",
      "50000/50000 [==============================] - 4s 74us/sample - loss: 1.0022 - acc: 0.6402 - val_loss: 1.4088 - val_acc: 0.5252\n",
      "Epoch 21/100\n",
      "50000/50000 [==============================] - 4s 74us/sample - loss: 0.9611 - acc: 0.6527 - val_loss: 1.4650 - val_acc: 0.5122\n",
      "Epoch 22/100\n",
      "50000/50000 [==============================] - 4s 75us/sample - loss: 0.9278 - acc: 0.6654 - val_loss: 1.4526 - val_acc: 0.5306\n",
      "Epoch 23/100\n",
      "50000/50000 [==============================] - 4s 75us/sample - loss: 0.8835 - acc: 0.6826 - val_loss: 1.4800 - val_acc: 0.5304\n",
      "Epoch 24/100\n",
      "50000/50000 [==============================] - 4s 75us/sample - loss: 0.8465 - acc: 0.6957 - val_loss: 1.5225 - val_acc: 0.5270\n",
      "Epoch 25/100\n",
      "50000/50000 [==============================] - 4s 75us/sample - loss: 0.8079 - acc: 0.7075 - val_loss: 1.5596 - val_acc: 0.5176\n",
      "Epoch 26/100\n",
      "50000/50000 [==============================] - 4s 76us/sample - loss: 0.7600 - acc: 0.7263 - val_loss: 1.6183 - val_acc: 0.5201\n",
      "Epoch 27/100\n",
      "50000/50000 [==============================] - 4s 76us/sample - loss: 0.7241 - acc: 0.7400 - val_loss: 1.6797 - val_acc: 0.5254\n",
      "Epoch 28/100\n",
      "50000/50000 [==============================] - 4s 75us/sample - loss: 0.6951 - acc: 0.7490 - val_loss: 1.6718 - val_acc: 0.5239\n",
      "Epoch 29/100\n",
      "50000/50000 [==============================] - 4s 75us/sample - loss: 0.6488 - acc: 0.7659 - val_loss: 1.8167 - val_acc: 0.5161\n",
      "Epoch 30/100\n",
      "50000/50000 [==============================] - 4s 75us/sample - loss: 0.6275 - acc: 0.7726 - val_loss: 1.8756 - val_acc: 0.5180\n",
      "Epoch 31/100\n",
      "50000/50000 [==============================] - 4s 75us/sample - loss: 0.5868 - acc: 0.7875 - val_loss: 1.8778 - val_acc: 0.5161\n",
      "Epoch 32/100\n",
      "50000/50000 [==============================] - 4s 75us/sample - loss: 0.5405 - acc: 0.8045 - val_loss: 1.9527 - val_acc: 0.5190\n",
      "Epoch 33/100\n",
      "50000/50000 [==============================] - 4s 74us/sample - loss: 0.5162 - acc: 0.8146 - val_loss: 2.1000 - val_acc: 0.5054\n",
      "Epoch 34/100\n",
      "50000/50000 [==============================] - 4s 75us/sample - loss: 0.4856 - acc: 0.8253 - val_loss: 2.1773 - val_acc: 0.5170\n",
      "Epoch 35/100\n",
      "50000/50000 [==============================] - 4s 75us/sample - loss: 0.4634 - acc: 0.8332 - val_loss: 2.2110 - val_acc: 0.5151\n",
      "Epoch 36/100\n",
      "50000/50000 [==============================] - 4s 75us/sample - loss: 0.4209 - acc: 0.8491 - val_loss: 2.1713 - val_acc: 0.5075\n",
      "Epoch 37/100\n",
      "50000/50000 [==============================] - 4s 76us/sample - loss: 0.4085 - acc: 0.8520 - val_loss: 2.3824 - val_acc: 0.5118\n",
      "Epoch 38/100\n",
      "50000/50000 [==============================] - 4s 76us/sample - loss: 0.3856 - acc: 0.8610 - val_loss: 2.4732 - val_acc: 0.5110\n",
      "Epoch 39/100\n",
      "50000/50000 [==============================] - 4s 77us/sample - loss: 0.3773 - acc: 0.8652 - val_loss: 2.4916 - val_acc: 0.5068\n",
      "Epoch 40/100\n",
      "50000/50000 [==============================] - 4s 74us/sample - loss: 0.3694 - acc: 0.8668 - val_loss: 2.5300 - val_acc: 0.5096\n",
      "Epoch 41/100\n",
      "50000/50000 [==============================] - 4s 75us/sample - loss: 0.3477 - acc: 0.8754 - val_loss: 2.5777 - val_acc: 0.5137\n",
      "Epoch 42/100\n",
      "50000/50000 [==============================] - 4s 75us/sample - loss: 0.3013 - acc: 0.8925 - val_loss: 2.7273 - val_acc: 0.5046\n",
      "Epoch 43/100\n",
      "50000/50000 [==============================] - 4s 75us/sample - loss: 0.3055 - acc: 0.8899 - val_loss: 2.7758 - val_acc: 0.5086\n",
      "Epoch 44/100\n",
      "50000/50000 [==============================] - 4s 75us/sample - loss: 0.2913 - acc: 0.8958 - val_loss: 2.8902 - val_acc: 0.5162\n",
      "Epoch 45/100\n",
      "50000/50000 [==============================] - 4s 75us/sample - loss: 0.3156 - acc: 0.8872 - val_loss: 2.7678 - val_acc: 0.5089\n",
      "Epoch 46/100\n",
      "50000/50000 [==============================] - 4s 73us/sample - loss: 0.2721 - acc: 0.9017 - val_loss: 3.3274 - val_acc: 0.5006\n",
      "Epoch 47/100\n",
      "50000/50000 [==============================] - 4s 74us/sample - loss: 0.2587 - acc: 0.9085 - val_loss: 3.0795 - val_acc: 0.5151\n",
      "Epoch 48/100\n",
      "50000/50000 [==============================] - 4s 74us/sample - loss: 0.2470 - acc: 0.9120 - val_loss: 3.1523 - val_acc: 0.5099\n",
      "Epoch 49/100\n",
      "50000/50000 [==============================] - 4s 74us/sample - loss: 0.2461 - acc: 0.9131 - val_loss: 3.1142 - val_acc: 0.5156\n",
      "Epoch 50/100\n",
      "50000/50000 [==============================] - 4s 74us/sample - loss: 0.2377 - acc: 0.9164 - val_loss: 3.1120 - val_acc: 0.5097\n",
      "Epoch 51/100\n",
      "50000/50000 [==============================] - 4s 75us/sample - loss: 0.2381 - acc: 0.9162 - val_loss: 3.1843 - val_acc: 0.5163\n",
      "Epoch 52/100\n",
      "50000/50000 [==============================] - 4s 74us/sample - loss: 0.2272 - acc: 0.9195 - val_loss: 3.1812 - val_acc: 0.4989\n",
      "Epoch 53/100\n",
      "50000/50000 [==============================] - 4s 75us/sample - loss: 0.2060 - acc: 0.9262 - val_loss: 3.3118 - val_acc: 0.5011\n",
      "Epoch 54/100\n",
      "50000/50000 [==============================] - 4s 75us/sample - loss: 0.2208 - acc: 0.9224 - val_loss: 3.5315 - val_acc: 0.5134\n",
      "Epoch 55/100\n",
      "50000/50000 [==============================] - 4s 76us/sample - loss: 0.1691 - acc: 0.9398 - val_loss: 3.5576 - val_acc: 0.5094\n",
      "Epoch 56/100\n",
      "50000/50000 [==============================] - 4s 76us/sample - loss: 0.2073 - acc: 0.9268 - val_loss: 3.5945 - val_acc: 0.5027\n",
      "Epoch 57/100\n",
      "50000/50000 [==============================] - 4s 76us/sample - loss: 0.2172 - acc: 0.9236 - val_loss: 3.4378 - val_acc: 0.5118\n",
      "Epoch 58/100\n",
      "50000/50000 [==============================] - 4s 76us/sample - loss: 0.1879 - acc: 0.9342 - val_loss: 3.5365 - val_acc: 0.5075\n"
     ]
    },
    {
     "name": "stdout",
     "output_type": "stream",
     "text": [
      "Epoch 59/100\n",
      "50000/50000 [==============================] - 4s 76us/sample - loss: 0.2023 - acc: 0.9288 - val_loss: 3.5102 - val_acc: 0.5040\n",
      "Epoch 60/100\n",
      "50000/50000 [==============================] - 4s 75us/sample - loss: 0.2039 - acc: 0.9299 - val_loss: 3.4014 - val_acc: 0.5031\n",
      "Epoch 61/100\n",
      "50000/50000 [==============================] - 4s 75us/sample - loss: 0.1875 - acc: 0.9344 - val_loss: 3.6643 - val_acc: 0.5040\n",
      "Epoch 62/100\n",
      "50000/50000 [==============================] - 4s 74us/sample - loss: 0.1737 - acc: 0.9392 - val_loss: 3.7307 - val_acc: 0.4986\n",
      "Epoch 63/100\n",
      "50000/50000 [==============================] - 4s 76us/sample - loss: 0.1589 - acc: 0.9451 - val_loss: 3.9327 - val_acc: 0.4975\n",
      "Epoch 64/100\n",
      "50000/50000 [==============================] - 4s 76us/sample - loss: 0.1688 - acc: 0.9412 - val_loss: 3.7286 - val_acc: 0.5085\n",
      "Epoch 65/100\n",
      "50000/50000 [==============================] - 4s 75us/sample - loss: 0.1454 - acc: 0.9511 - val_loss: 4.0142 - val_acc: 0.5110\n",
      "Epoch 66/100\n",
      "50000/50000 [==============================] - 4s 75us/sample - loss: 0.1777 - acc: 0.9387 - val_loss: 3.6895 - val_acc: 0.4995\n",
      "Epoch 67/100\n",
      "50000/50000 [==============================] - 4s 75us/sample - loss: 0.1827 - acc: 0.9366 - val_loss: 3.8214 - val_acc: 0.5108\n",
      "Epoch 68/100\n",
      "50000/50000 [==============================] - 4s 75us/sample - loss: 0.1580 - acc: 0.9451 - val_loss: 3.8409 - val_acc: 0.5090\n",
      "Epoch 69/100\n",
      "50000/50000 [==============================] - 4s 76us/sample - loss: 0.1394 - acc: 0.9528 - val_loss: 3.9219 - val_acc: 0.5067\n",
      "Epoch 70/100\n",
      "50000/50000 [==============================] - 4s 75us/sample - loss: 0.1407 - acc: 0.9508 - val_loss: 4.1339 - val_acc: 0.5014\n",
      "Epoch 71/100\n",
      "50000/50000 [==============================] - 4s 75us/sample - loss: 0.1553 - acc: 0.9472 - val_loss: 3.9445 - val_acc: 0.5154\n",
      "Epoch 72/100\n",
      "50000/50000 [==============================] - 4s 76us/sample - loss: 0.1705 - acc: 0.9417 - val_loss: 3.9765 - val_acc: 0.5069\n",
      "Epoch 73/100\n",
      "50000/50000 [==============================] - 4s 75us/sample - loss: 0.1504 - acc: 0.9494 - val_loss: 3.8828 - val_acc: 0.5060\n",
      "Epoch 74/100\n",
      "50000/50000 [==============================] - 4s 76us/sample - loss: 0.1287 - acc: 0.9556 - val_loss: 4.0873 - val_acc: 0.5055\n",
      "Epoch 75/100\n",
      "50000/50000 [==============================] - 4s 76us/sample - loss: 0.1432 - acc: 0.9517 - val_loss: 4.0794 - val_acc: 0.4975\n",
      "Epoch 76/100\n",
      "50000/50000 [==============================] - 4s 76us/sample - loss: 0.1516 - acc: 0.9487 - val_loss: 4.0383 - val_acc: 0.5083\n",
      "Epoch 77/100\n",
      "50000/50000 [==============================] - 4s 76us/sample - loss: 0.1493 - acc: 0.9493 - val_loss: 4.1375 - val_acc: 0.5031\n",
      "Epoch 78/100\n",
      "50000/50000 [==============================] - 4s 76us/sample - loss: 0.1209 - acc: 0.9595 - val_loss: 4.2568 - val_acc: 0.5018\n",
      "Epoch 79/100\n",
      "50000/50000 [==============================] - 4s 76us/sample - loss: 0.1285 - acc: 0.9552 - val_loss: 4.1038 - val_acc: 0.5135\n",
      "Epoch 80/100\n",
      "50000/50000 [==============================] - 4s 77us/sample - loss: 0.1137 - acc: 0.9607 - val_loss: 4.3075 - val_acc: 0.5024\n",
      "Epoch 81/100\n",
      "50000/50000 [==============================] - 4s 76us/sample - loss: 0.1097 - acc: 0.9633 - val_loss: 4.4431 - val_acc: 0.5006\n",
      "Epoch 82/100\n",
      "50000/50000 [==============================] - 4s 76us/sample - loss: 0.1774 - acc: 0.9410 - val_loss: 3.8856 - val_acc: 0.5071\n",
      "Epoch 83/100\n",
      "50000/50000 [==============================] - 4s 77us/sample - loss: 0.1325 - acc: 0.9555 - val_loss: 4.3314 - val_acc: 0.5096\n",
      "Epoch 84/100\n",
      "50000/50000 [==============================] - 4s 76us/sample - loss: 0.1071 - acc: 0.9641 - val_loss: 4.2466 - val_acc: 0.5125\n",
      "Epoch 85/100\n",
      "50000/50000 [==============================] - 4s 76us/sample - loss: 0.1420 - acc: 0.9518 - val_loss: 4.0554 - val_acc: 0.5068\n",
      "Epoch 86/100\n",
      "50000/50000 [==============================] - 4s 77us/sample - loss: 0.1232 - acc: 0.9586 - val_loss: 4.2012 - val_acc: 0.5088\n",
      "Epoch 87/100\n",
      "50000/50000 [==============================] - 4s 75us/sample - loss: 0.1522 - acc: 0.9489 - val_loss: 4.2012 - val_acc: 0.5035\n",
      "Epoch 88/100\n",
      "50000/50000 [==============================] - 4s 75us/sample - loss: 0.1061 - acc: 0.9642 - val_loss: 4.3725 - val_acc: 0.5043\n",
      "Epoch 89/100\n",
      "50000/50000 [==============================] - 4s 75us/sample - loss: 0.1385 - acc: 0.9555 - val_loss: 4.2201 - val_acc: 0.5178\n",
      "Epoch 90/100\n",
      "50000/50000 [==============================] - 4s 75us/sample - loss: 0.1061 - acc: 0.9643 - val_loss: 4.2163 - val_acc: 0.5038\n",
      "Epoch 91/100\n",
      "50000/50000 [==============================] - 4s 75us/sample - loss: 0.1191 - acc: 0.9605 - val_loss: 4.3599 - val_acc: 0.5072\n",
      "Epoch 92/100\n",
      "50000/50000 [==============================] - 4s 75us/sample - loss: 0.1173 - acc: 0.9596 - val_loss: 4.2558 - val_acc: 0.5044\n",
      "Epoch 93/100\n",
      "50000/50000 [==============================] - 4s 75us/sample - loss: 0.1252 - acc: 0.9586 - val_loss: 4.2305 - val_acc: 0.5090\n",
      "Epoch 94/100\n",
      "50000/50000 [==============================] - 4s 75us/sample - loss: 0.1397 - acc: 0.9529 - val_loss: 4.1529 - val_acc: 0.5031\n",
      "Epoch 95/100\n",
      "50000/50000 [==============================] - 4s 75us/sample - loss: 0.1053 - acc: 0.9645 - val_loss: 4.3435 - val_acc: 0.5127\n",
      "Epoch 96/100\n",
      "50000/50000 [==============================] - 4s 76us/sample - loss: 0.0785 - acc: 0.9732 - val_loss: 4.6236 - val_acc: 0.5087\n",
      "Epoch 97/100\n",
      "50000/50000 [==============================] - 4s 76us/sample - loss: 0.1038 - acc: 0.9656 - val_loss: 4.4873 - val_acc: 0.5077\n",
      "Epoch 98/100\n",
      "50000/50000 [==============================] - 4s 76us/sample - loss: 0.1065 - acc: 0.9643 - val_loss: 4.4069 - val_acc: 0.5034\n",
      "Epoch 99/100\n",
      "50000/50000 [==============================] - 4s 76us/sample - loss: 0.1573 - acc: 0.9482 - val_loss: 4.0384 - val_acc: 0.4880\n",
      "Epoch 100/100\n",
      "50000/50000 [==============================] - 4s 76us/sample - loss: 0.1029 - acc: 0.9656 - val_loss: 4.3558 - val_acc: 0.5070\n"
     ]
    },
    {
     "data": {
      "text/plain": [
       "<tensorflow.python.keras.callbacks.History at 0x7f585c37e710>"
      ]
     },
     "execution_count": 9,
     "metadata": {},
     "output_type": "execute_result"
    }
   ],
   "source": [
    "model.fit(x_train, y_train, \n",
    "          epochs=EPOCHS, \n",
    "          batch_size=BATCH_SIZE, \n",
    "          validation_data=(x_test, y_test), \n",
    "          shuffle=True)"
   ]
  },
  {
   "cell_type": "code",
   "execution_count": 11,
   "metadata": {},
   "outputs": [
    {
     "data": {
      "image/png": "[encoded data removed]",
      "text/plain": [
       "<Figure size 432x288 with 1 Axes>"
      ]
     },
     "metadata": {
      "needs_background": "light"
     },
     "output_type": "display_data"
    },
    {
     "data": {
      "image/png": "[encoded data removed]",
      "text/plain": [
       "<Figure size 432x288 with 1 Axes>"
      ]
     },
     "metadata": {
      "needs_background": "light"
     },
     "output_type": "display_data"
    }
   ],
   "source": [
    "import matplotlib.pyplot as plt\n",
    "\n",
    "\n",
    "train_loss = model.history.history[\"loss\"]\n",
    "valid_loss = model.history.history[\"val_loss\"]\n",
    "\n",
    "train_acc = model.history.history[\"acc\"]\n",
    "valid_acc = model.history.history[\"val_acc\"]\n",
    "\n",
    "plt.plot(range(len(train_loss)), train_loss, label=\"train loss\")\n",
    "plt.plot(range(len(valid_loss)), valid_loss, label=\"valid loss\")\n",
    "plt.legend()\n",
    "plt.title(\"Loss\")\n",
    "plt.show()\n",
    "\n",
    "plt.plot(range(len(train_acc)), train_acc, label=\"train accuracy\")\n",
    "plt.plot(range(len(valid_acc)), valid_acc, label=\"valid accuracy\")\n",
    "plt.legend()\n",
    "plt.title(\"Accuracy\")\n",
    "plt.show()"
   ]
  }
 ],
 "metadata": {
  "kernelspec": {
   "display_name": "Python 3",
   "language": "python",
   "name": "python3"
  },
  "language_info": {
   "codemirror_mode": {
    "name": "ipython",
    "version": 3
   },
   "file_extension": ".py",
   "mimetype": "text/x-python",
   "name": "python",
   "nbconvert_exporter": "python",
   "pygments_lexer": "ipython3",
   "version": "3.7.2"
  }
 },
 "nbformat": 4,
 "nbformat_minor": 2
}
