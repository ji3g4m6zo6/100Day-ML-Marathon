{
 "cells": [
  {
   "cell_type": "markdown",
   "metadata": {},
   "source": [
    "## Work\n",
    "1. 請嘗試將 preproc_x 替換成以每筆資料的 min/max 進行標準化至 -1 ~ 1 間，再進行訓練\n",
    "2. 請嘗試將 mlp 疊更深 (e.g 5~10 層)，進行訓練後觀察 learning curve 的走勢\n",
    "3. (optional) 請改用 GPU 進行訓練 (如果你有 GPU 的話)，比較使用 CPU 與 GPU 的訓練速度"
   ]
  },
  {
   "cell_type": "code",
   "execution_count": 1,
   "metadata": {},
   "outputs": [],
   "source": [
    "## 確認硬體資源\n",
    "!nvidia-smi"
   ]
  },
  {
   "cell_type": "code",
   "execution_count": 2,
   "metadata": {},
   "outputs": [],
   "source": [
    "import os\n",
    "from tensorflow.python import keras\n",
    "\n",
    "# Try to enable GPU (optional)\n"
   ]
  },
  {
   "cell_type": "code",
   "execution_count": 3,
   "metadata": {},
   "outputs": [],
   "source": [
    "train, test = keras.datasets.cifar10.load_data()"
   ]
  },
  {
   "cell_type": "code",
   "execution_count": 4,
   "metadata": {},
   "outputs": [],
   "source": [
    "## 資料前處理\n",
    "\n",
    "def preproc_x(x, flatten=True):\n",
    "    x = x / 255.\n",
    "    if flatten:\n",
    "        x = x.reshape((len(x), -1))\n",
    "    return x\n",
    "\n",
    "def preproc_y(y, num_classes=10):\n",
    "    if y.shape[-1] == 1:\n",
    "        y = keras.utils.to_categorical(y, num_classes)\n",
    "    return y   "
   ]
  },
  {
   "cell_type": "code",
   "execution_count": 5,
   "metadata": {},
   "outputs": [],
   "source": [
    "x_train, y_train = train\n",
    "x_test, y_test = test\n",
    "\n",
    "# Preproc the inputs\n",
    "x_train = preproc_x(x_train)\n",
    "x_test = preproc_x(x_test)\n",
    "\n",
    "# Preprc the outputs\n",
    "y_train = preproc_y(y_train)\n",
    "y_test = preproc_y(y_test)"
   ]
  },
  {
   "cell_type": "code",
   "execution_count": 6,
   "metadata": {},
   "outputs": [
    {
     "name": "stdout",
     "output_type": "stream",
     "text": [
      "Model: \"model\"\n",
      "_________________________________________________________________\n",
      "Layer (type)                 Output Shape              Param #   \n",
      "=================================================================\n",
      "input_1 (InputLayer)         [(None, 3072)]            0         \n",
      "_________________________________________________________________\n",
      "hidden_layer1 (Dense)        (None, 2048)              6293504   \n",
      "_________________________________________________________________\n",
      "hidden_layer2 (Dense)        (None, 1024)              2098176   \n",
      "_________________________________________________________________\n",
      "hidden_layer3 (Dense)        (None, 512)               524800    \n",
      "_________________________________________________________________\n",
      "hidden_layer4 (Dense)        (None, 256)               131328    \n",
      "_________________________________________________________________\n",
      "hidden_layer5 (Dense)        (None, 128)               32896     \n",
      "_________________________________________________________________\n",
      "output (Dense)               (None, 10)                1290      \n",
      "=================================================================\n",
      "Total params: 9,081,994\n",
      "Trainable params: 9,081,994\n",
      "Non-trainable params: 0\n",
      "_________________________________________________________________\n"
     ]
    }
   ],
   "source": [
    "\"\"\"\n",
    "Your code here\n",
    "\"\"\"\n",
    "def build_mlp(input_shape, output_units=10, num_neurons=[2048, 1024, 512, 256, 128]):\n",
    "    input_layer = keras.layers.Input(input_shape)\n",
    "    \n",
    "    for i, n_units in enumerate(num_neurons):\n",
    "        if i == 0:\n",
    "            x = keras.layers.Dense(units=n_units, activation=\"relu\", name=\"hidden_layer\"+str(i+1))(input_layer)\n",
    "        else:\n",
    "            x = keras.layers.Dense(units=n_units, activation=\"relu\", name=\"hidden_layer\"+str(i+1))(x)\n",
    "    \n",
    "    out = keras.layers.Dense(units=output_units, activation=\"softmax\", name=\"output\")(x)\n",
    "    \n",
    "    model = keras.models.Model(inputs=[input_layer], outputs=[out])\n",
    "    return model\n",
    "\n",
    "model = build_mlp(input_shape=x_train.shape[1:])\n",
    "model.summary()"
   ]
  },
  {
   "cell_type": "code",
   "execution_count": 7,
   "metadata": {},
   "outputs": [],
   "source": [
    "## 超參數設定\n",
    "LEARNING_RATE = 0.001\n",
    "EPOCHS = 100\n",
    "BATCH_SIZE = 256"
   ]
  },
  {
   "cell_type": "code",
   "execution_count": 8,
   "metadata": {},
   "outputs": [],
   "source": [
    "optimizer = keras.optimizers.Adam(lr=LEARNING_RATE)\n",
    "model.compile(loss=\"categorical_crossentropy\", metrics=[\"acc\"], optimizer=optimizer)"
   ]
  },
  {
   "cell_type": "code",
   "execution_count": 9,
   "metadata": {},
   "outputs": [
    {
     "name": "stdout",
     "output_type": "stream",
     "text": [
      "Train on 50000 samples, validate on 10000 samples\n",
      "Epoch 1/100\n",
      "50000/50000 [==============================] - 4s 86us/sample - loss: 2.0217 - acc: 0.2678 - val_loss: 1.8335 - val_acc: 0.3346\n",
      "Epoch 2/100\n",
      "50000/50000 [==============================] - 4s 76us/sample - loss: 1.7275 - acc: 0.3753 - val_loss: 1.6636 - val_acc: 0.4076\n",
      "Epoch 3/100\n",
      "50000/50000 [==============================] - 4s 76us/sample - loss: 1.6328 - acc: 0.4147 - val_loss: 1.5672 - val_acc: 0.4322\n",
      "Epoch 4/100\n",
      "50000/50000 [==============================] - 4s 75us/sample - loss: 1.5711 - acc: 0.4354 - val_loss: 1.5715 - val_acc: 0.4325\n",
      "Epoch 5/100\n",
      "50000/50000 [==============================] - 4s 75us/sample - loss: 1.5056 - acc: 0.4630 - val_loss: 1.5278 - val_acc: 0.4578\n",
      "Epoch 6/100\n",
      "50000/50000 [==============================] - 4s 75us/sample - loss: 1.4581 - acc: 0.4791 - val_loss: 1.4667 - val_acc: 0.4739\n",
      "Epoch 7/100\n",
      "50000/50000 [==============================] - 4s 76us/sample - loss: 1.4158 - acc: 0.4918 - val_loss: 1.5625 - val_acc: 0.4425\n",
      "Epoch 8/100\n",
      "50000/50000 [==============================] - 4s 76us/sample - loss: 1.3888 - acc: 0.5020 - val_loss: 1.4522 - val_acc: 0.4788\n",
      "Epoch 9/100\n",
      "50000/50000 [==============================] - 4s 75us/sample - loss: 1.3457 - acc: 0.5200 - val_loss: 1.4501 - val_acc: 0.4866\n",
      "Epoch 10/100\n",
      "50000/50000 [==============================] - 4s 74us/sample - loss: 1.3110 - acc: 0.5305 - val_loss: 1.3751 - val_acc: 0.5081\n",
      "Epoch 11/100\n",
      "50000/50000 [==============================] - 4s 74us/sample - loss: 1.2768 - acc: 0.5458 - val_loss: 1.4009 - val_acc: 0.4991\n",
      "Epoch 12/100\n",
      "50000/50000 [==============================] - 4s 76us/sample - loss: 1.2466 - acc: 0.5532 - val_loss: 1.3777 - val_acc: 0.5120\n",
      "Epoch 13/100\n",
      "50000/50000 [==============================] - 4s 75us/sample - loss: 1.2144 - acc: 0.5624 - val_loss: 1.3559 - val_acc: 0.5248\n",
      "Epoch 14/100\n",
      "50000/50000 [==============================] - 4s 76us/sample - loss: 1.1908 - acc: 0.5711 - val_loss: 1.4007 - val_acc: 0.5049\n",
      "Epoch 15/100\n",
      "50000/50000 [==============================] - 4s 75us/sample - loss: 1.1496 - acc: 0.5875 - val_loss: 1.3600 - val_acc: 0.5236\n",
      "Epoch 16/100\n",
      "50000/50000 [==============================] - 4s 76us/sample - loss: 1.1226 - acc: 0.5998 - val_loss: 1.3915 - val_acc: 0.5117\n",
      "Epoch 17/100\n",
      "50000/50000 [==============================] - 4s 76us/sample - loss: 1.0804 - acc: 0.6118 - val_loss: 1.3786 - val_acc: 0.5248\n",
      "Epoch 18/100\n",
      "50000/50000 [==============================] - 4s 76us/sample - loss: 1.0507 - acc: 0.6205 - val_loss: 1.4420 - val_acc: 0.5009\n",
      "Epoch 19/100\n",
      "50000/50000 [==============================] - 4s 75us/sample - loss: 1.0147 - acc: 0.6349 - val_loss: 1.3783 - val_acc: 0.5318\n",
      "Epoch 20/100\n",
      "50000/50000 [==============================] - 4s 75us/sample - loss: 0.9855 - acc: 0.6424 - val_loss: 1.4124 - val_acc: 0.5262\n",
      "Epoch 21/100\n",
      "50000/50000 [==============================] - 4s 75us/sample - loss: 0.9339 - acc: 0.6624 - val_loss: 1.4312 - val_acc: 0.5157\n",
      "Epoch 22/100\n",
      "50000/50000 [==============================] - 4s 75us/sample - loss: 0.9012 - acc: 0.6736 - val_loss: 1.5324 - val_acc: 0.5171\n",
      "Epoch 23/100\n",
      "50000/50000 [==============================] - 4s 75us/sample - loss: 0.8481 - acc: 0.6934 - val_loss: 1.4621 - val_acc: 0.5278\n",
      "Epoch 24/100\n",
      "50000/50000 [==============================] - 4s 76us/sample - loss: 0.8143 - acc: 0.7052 - val_loss: 1.5687 - val_acc: 0.5288\n",
      "Epoch 25/100\n",
      "50000/50000 [==============================] - 4s 75us/sample - loss: 0.7663 - acc: 0.7221 - val_loss: 1.6751 - val_acc: 0.5107\n",
      "Epoch 26/100\n",
      "50000/50000 [==============================] - 4s 76us/sample - loss: 0.7305 - acc: 0.7381 - val_loss: 1.6666 - val_acc: 0.5166\n",
      "Epoch 27/100\n",
      "50000/50000 [==============================] - 4s 75us/sample - loss: 0.6949 - acc: 0.7503 - val_loss: 1.7809 - val_acc: 0.5184\n",
      "Epoch 28/100\n",
      "50000/50000 [==============================] - 4s 74us/sample - loss: 0.6410 - acc: 0.7663 - val_loss: 1.7686 - val_acc: 0.5125\n",
      "Epoch 29/100\n",
      "50000/50000 [==============================] - 4s 75us/sample - loss: 0.6231 - acc: 0.7732 - val_loss: 1.8214 - val_acc: 0.5242\n",
      "Epoch 30/100\n",
      "50000/50000 [==============================] - 4s 75us/sample - loss: 0.5891 - acc: 0.7844 - val_loss: 1.8814 - val_acc: 0.5136\n",
      "Epoch 31/100\n",
      "50000/50000 [==============================] - 4s 75us/sample - loss: 0.5454 - acc: 0.8037 - val_loss: 1.9921 - val_acc: 0.5071\n",
      "Epoch 32/100\n",
      "50000/50000 [==============================] - 4s 75us/sample - loss: 0.5299 - acc: 0.8071 - val_loss: 2.1175 - val_acc: 0.5087\n",
      "Epoch 33/100\n",
      "50000/50000 [==============================] - 4s 74us/sample - loss: 0.5055 - acc: 0.8181 - val_loss: 2.0624 - val_acc: 0.5122\n",
      "Epoch 34/100\n",
      "50000/50000 [==============================] - 4s 74us/sample - loss: 0.4545 - acc: 0.8350 - val_loss: 2.1590 - val_acc: 0.5168\n",
      "Epoch 35/100\n",
      "50000/50000 [==============================] - 4s 76us/sample - loss: 0.4290 - acc: 0.8455 - val_loss: 2.2736 - val_acc: 0.5013\n",
      "Epoch 36/100\n",
      "50000/50000 [==============================] - 4s 76us/sample - loss: 0.4170 - acc: 0.8508 - val_loss: 2.3522 - val_acc: 0.5115\n",
      "Epoch 37/100\n",
      "50000/50000 [==============================] - 4s 75us/sample - loss: 0.3834 - acc: 0.8620 - val_loss: 2.4641 - val_acc: 0.5003\n",
      "Epoch 38/100\n",
      "50000/50000 [==============================] - 4s 75us/sample - loss: 0.3882 - acc: 0.8596 - val_loss: 2.4416 - val_acc: 0.5084\n",
      "Epoch 39/100\n",
      "50000/50000 [==============================] - 4s 75us/sample - loss: 0.3532 - acc: 0.8725 - val_loss: 2.6225 - val_acc: 0.5127\n",
      "Epoch 40/100\n",
      "50000/50000 [==============================] - 4s 76us/sample - loss: 0.3543 - acc: 0.8740 - val_loss: 2.6016 - val_acc: 0.4978\n",
      "Epoch 41/100\n",
      "50000/50000 [==============================] - 4s 75us/sample - loss: 0.3154 - acc: 0.8862 - val_loss: 2.7138 - val_acc: 0.5130\n",
      "Epoch 42/100\n",
      "50000/50000 [==============================] - 4s 75us/sample - loss: 0.2793 - acc: 0.8993 - val_loss: 2.9360 - val_acc: 0.5004\n",
      "Epoch 43/100\n",
      "50000/50000 [==============================] - 4s 75us/sample - loss: 0.3257 - acc: 0.8838 - val_loss: 2.8408 - val_acc: 0.5151\n",
      "Epoch 44/100\n",
      "50000/50000 [==============================] - 4s 76us/sample - loss: 0.2715 - acc: 0.9046 - val_loss: 2.9310 - val_acc: 0.4952\n",
      "Epoch 45/100\n",
      "50000/50000 [==============================] - 4s 76us/sample - loss: 0.2820 - acc: 0.8984 - val_loss: 3.0163 - val_acc: 0.4883\n",
      "Epoch 46/100\n",
      "50000/50000 [==============================] - 4s 75us/sample - loss: 0.2648 - acc: 0.9067 - val_loss: 3.1704 - val_acc: 0.5046\n",
      "Epoch 47/100\n",
      "50000/50000 [==============================] - 4s 76us/sample - loss: 0.2568 - acc: 0.9083 - val_loss: 3.0101 - val_acc: 0.5060\n",
      "Epoch 48/100\n",
      "50000/50000 [==============================] - 4s 76us/sample - loss: 0.2467 - acc: 0.9125 - val_loss: 3.1205 - val_acc: 0.5075\n",
      "Epoch 49/100\n",
      "50000/50000 [==============================] - 4s 75us/sample - loss: 0.2180 - acc: 0.9220 - val_loss: 3.4215 - val_acc: 0.5029\n",
      "Epoch 50/100\n",
      "50000/50000 [==============================] - 4s 75us/sample - loss: 0.2332 - acc: 0.9192 - val_loss: 3.2440 - val_acc: 0.5032\n",
      "Epoch 51/100\n",
      "50000/50000 [==============================] - 4s 75us/sample - loss: 0.2116 - acc: 0.9259 - val_loss: 3.3599 - val_acc: 0.5080\n",
      "Epoch 52/100\n",
      "50000/50000 [==============================] - 4s 74us/sample - loss: 0.2425 - acc: 0.9158 - val_loss: 3.2192 - val_acc: 0.5062\n",
      "Epoch 53/100\n",
      "50000/50000 [==============================] - 4s 75us/sample - loss: 0.2338 - acc: 0.9184 - val_loss: 3.4110 - val_acc: 0.5082\n",
      "Epoch 54/100\n",
      "50000/50000 [==============================] - 4s 75us/sample - loss: 0.1742 - acc: 0.9381 - val_loss: 3.4553 - val_acc: 0.5101\n",
      "Epoch 55/100\n",
      "50000/50000 [==============================] - 4s 76us/sample - loss: 0.2086 - acc: 0.9277 - val_loss: 3.4582 - val_acc: 0.4971\n",
      "Epoch 56/100\n",
      "50000/50000 [==============================] - 4s 76us/sample - loss: 0.2052 - acc: 0.9286 - val_loss: 3.4041 - val_acc: 0.5067\n",
      "Epoch 57/100\n",
      "50000/50000 [==============================] - 4s 76us/sample - loss: 0.1672 - acc: 0.9418 - val_loss: 3.6483 - val_acc: 0.4967\n",
      "Epoch 58/100\n",
      "50000/50000 [==============================] - 4s 76us/sample - loss: 0.1814 - acc: 0.9383 - val_loss: 3.6614 - val_acc: 0.5034\n"
     ]
    },
    {
     "name": "stdout",
     "output_type": "stream",
     "text": [
      "Epoch 59/100\n",
      "50000/50000 [==============================] - 4s 76us/sample - loss: 0.1892 - acc: 0.9333 - val_loss: 3.3704 - val_acc: 0.4942\n",
      "Epoch 60/100\n",
      "50000/50000 [==============================] - 4s 75us/sample - loss: 0.1853 - acc: 0.9352 - val_loss: 3.5858 - val_acc: 0.5141\n",
      "Epoch 61/100\n",
      "50000/50000 [==============================] - 4s 76us/sample - loss: 0.1708 - acc: 0.9409 - val_loss: 3.6856 - val_acc: 0.5006\n",
      "Epoch 62/100\n",
      "50000/50000 [==============================] - 4s 76us/sample - loss: 0.1593 - acc: 0.9453 - val_loss: 3.8464 - val_acc: 0.5086\n",
      "Epoch 63/100\n",
      "50000/50000 [==============================] - 4s 76us/sample - loss: 0.1912 - acc: 0.9328 - val_loss: 3.6954 - val_acc: 0.5080\n",
      "Epoch 64/100\n",
      "50000/50000 [==============================] - 4s 75us/sample - loss: 0.1690 - acc: 0.9420 - val_loss: 3.7622 - val_acc: 0.5087\n",
      "Epoch 65/100\n",
      "50000/50000 [==============================] - 4s 75us/sample - loss: 0.1425 - acc: 0.9507 - val_loss: 3.7626 - val_acc: 0.5044\n",
      "Epoch 66/100\n",
      "50000/50000 [==============================] - 4s 75us/sample - loss: 0.1889 - acc: 0.9356 - val_loss: 3.7233 - val_acc: 0.5011\n",
      "Epoch 67/100\n",
      "50000/50000 [==============================] - 4s 75us/sample - loss: 0.1563 - acc: 0.9459 - val_loss: 3.7849 - val_acc: 0.4995\n",
      "Epoch 68/100\n",
      "50000/50000 [==============================] - 4s 76us/sample - loss: 0.1485 - acc: 0.9493 - val_loss: 3.9124 - val_acc: 0.5092\n",
      "Epoch 69/100\n",
      "50000/50000 [==============================] - 4s 75us/sample - loss: 0.1176 - acc: 0.9602 - val_loss: 3.9761 - val_acc: 0.5039\n",
      "Epoch 70/100\n",
      "50000/50000 [==============================] - 4s 75us/sample - loss: 0.1839 - acc: 0.9382 - val_loss: 3.6574 - val_acc: 0.4965\n",
      "Epoch 71/100\n",
      "50000/50000 [==============================] - 4s 76us/sample - loss: 0.1494 - acc: 0.9485 - val_loss: 3.9043 - val_acc: 0.5097\n",
      "Epoch 72/100\n",
      "50000/50000 [==============================] - 4s 77us/sample - loss: 0.1362 - acc: 0.9540 - val_loss: 4.1516 - val_acc: 0.5085\n",
      "Epoch 73/100\n",
      "50000/50000 [==============================] - 4s 76us/sample - loss: 0.1387 - acc: 0.9524 - val_loss: 4.0229 - val_acc: 0.5035\n",
      "Epoch 74/100\n",
      "50000/50000 [==============================] - 4s 76us/sample - loss: 0.1499 - acc: 0.9488 - val_loss: 3.9726 - val_acc: 0.5061\n",
      "Epoch 75/100\n",
      "50000/50000 [==============================] - 4s 76us/sample - loss: 0.1284 - acc: 0.9559 - val_loss: 4.3256 - val_acc: 0.5006\n",
      "Epoch 76/100\n",
      "50000/50000 [==============================] - 4s 76us/sample - loss: 0.1545 - acc: 0.9483 - val_loss: 4.0341 - val_acc: 0.5050\n",
      "Epoch 77/100\n",
      "50000/50000 [==============================] - 4s 76us/sample - loss: 0.0995 - acc: 0.9666 - val_loss: 4.2003 - val_acc: 0.5082\n",
      "Epoch 78/100\n",
      "50000/50000 [==============================] - 4s 76us/sample - loss: 0.1494 - acc: 0.9496 - val_loss: 3.9131 - val_acc: 0.5077\n",
      "Epoch 79/100\n",
      "50000/50000 [==============================] - 4s 77us/sample - loss: 0.0865 - acc: 0.9711 - val_loss: 4.3382 - val_acc: 0.5052\n",
      "Epoch 80/100\n",
      "50000/50000 [==============================] - 4s 76us/sample - loss: 0.1696 - acc: 0.9449 - val_loss: 4.0417 - val_acc: 0.4995\n",
      "Epoch 81/100\n",
      "50000/50000 [==============================] - 4s 76us/sample - loss: 0.1358 - acc: 0.9542 - val_loss: 4.0875 - val_acc: 0.5085\n",
      "Epoch 82/100\n",
      "50000/50000 [==============================] - 4s 76us/sample - loss: 0.1250 - acc: 0.9587 - val_loss: 4.2327 - val_acc: 0.5071\n",
      "Epoch 83/100\n",
      "50000/50000 [==============================] - 4s 76us/sample - loss: 0.1049 - acc: 0.9638 - val_loss: 4.2636 - val_acc: 0.4960\n",
      "Epoch 84/100\n",
      "50000/50000 [==============================] - 4s 76us/sample - loss: 0.1556 - acc: 0.9477 - val_loss: 4.0111 - val_acc: 0.5063\n",
      "Epoch 85/100\n",
      "50000/50000 [==============================] - 4s 76us/sample - loss: 0.1104 - acc: 0.9624 - val_loss: 4.3075 - val_acc: 0.4868\n",
      "Epoch 86/100\n",
      "50000/50000 [==============================] - 4s 76us/sample - loss: 0.1410 - acc: 0.9535 - val_loss: 4.1452 - val_acc: 0.4937\n",
      "Epoch 87/100\n",
      "50000/50000 [==============================] - 4s 75us/sample - loss: 0.1336 - acc: 0.9556 - val_loss: 4.0500 - val_acc: 0.5022\n",
      "Epoch 88/100\n",
      "50000/50000 [==============================] - 4s 75us/sample - loss: 0.0940 - acc: 0.9684 - val_loss: 4.3167 - val_acc: 0.5080\n",
      "Epoch 89/100\n",
      "50000/50000 [==============================] - 4s 75us/sample - loss: 0.0952 - acc: 0.9679 - val_loss: 4.4040 - val_acc: 0.5035\n",
      "Epoch 90/100\n",
      "50000/50000 [==============================] - 4s 74us/sample - loss: 0.1505 - acc: 0.9496 - val_loss: 4.2080 - val_acc: 0.4965\n",
      "Epoch 91/100\n",
      "50000/50000 [==============================] - 4s 75us/sample - loss: 0.1214 - acc: 0.9593 - val_loss: 4.4247 - val_acc: 0.5033\n",
      "Epoch 92/100\n",
      "50000/50000 [==============================] - 4s 74us/sample - loss: 0.0857 - acc: 0.9713 - val_loss: 4.5138 - val_acc: 0.5027\n",
      "Epoch 93/100\n",
      "50000/50000 [==============================] - 4s 75us/sample - loss: 0.1248 - acc: 0.9580 - val_loss: 4.1837 - val_acc: 0.5066\n",
      "Epoch 94/100\n",
      "50000/50000 [==============================] - 4s 74us/sample - loss: 0.0894 - acc: 0.9700 - val_loss: 4.4568 - val_acc: 0.4978\n",
      "Epoch 95/100\n",
      "50000/50000 [==============================] - 4s 75us/sample - loss: 0.1139 - acc: 0.9623 - val_loss: 4.3434 - val_acc: 0.5019\n",
      "Epoch 96/100\n",
      "50000/50000 [==============================] - 4s 75us/sample - loss: 0.1131 - acc: 0.9635 - val_loss: 4.4450 - val_acc: 0.4908\n",
      "Epoch 97/100\n",
      "50000/50000 [==============================] - 4s 75us/sample - loss: 0.1273 - acc: 0.9587 - val_loss: 4.2355 - val_acc: 0.5024\n",
      "Epoch 98/100\n",
      "50000/50000 [==============================] - 4s 75us/sample - loss: 0.1169 - acc: 0.9616 - val_loss: 4.1813 - val_acc: 0.5032\n",
      "Epoch 99/100\n",
      "50000/50000 [==============================] - 4s 74us/sample - loss: 0.0770 - acc: 0.9741 - val_loss: 4.5423 - val_acc: 0.5110\n",
      "Epoch 100/100\n",
      "50000/50000 [==============================] - 4s 75us/sample - loss: 0.0846 - acc: 0.9714 - val_loss: 4.8605 - val_acc: 0.4952\n"
     ]
    },
    {
     "data": {
      "text/plain": [
       "<tensorflow.python.keras.callbacks.History at 0x7f053bfc9748>"
      ]
     },
     "execution_count": 9,
     "metadata": {},
     "output_type": "execute_result"
    }
   ],
   "source": [
    "model.fit(x_train, y_train, \n",
    "          epochs=EPOCHS, \n",
    "          batch_size=BATCH_SIZE, \n",
    "          validation_data=(x_test, y_test), \n",
    "          shuffle=True)"
   ]
  },
  {
   "cell_type": "code",
   "execution_count": 11,
   "metadata": {},
   "outputs": [
    {
     "data": {
      "image/png": "[encoded data removed]",
      "text/plain": [
       "<Figure size 432x288 with 1 Axes>"
      ]
     },
     "metadata": {
      "needs_background": "light"
     },
     "output_type": "display_data"
    },
    {
     "data": {
      "image/png": "[encoded data removed]",
      "text/plain": [
       "<Figure size 432x288 with 1 Axes>"
      ]
     },
     "metadata": {
      "needs_background": "light"
     },
     "output_type": "display_data"
    }
   ],
   "source": [
    "import matplotlib.pyplot as plt\n",
    "\n",
    "\n",
    "train_loss = model.history.history[\"loss\"]\n",
    "valid_loss = model.history.history[\"val_loss\"]\n",
    "\n",
    "train_acc = model.history.history[\"acc\"]\n",
    "valid_acc = model.history.history[\"val_acc\"]\n",
    "\n",
    "plt.plot(range(len(train_loss)), train_loss, label=\"train loss\")\n",
    "plt.plot(range(len(valid_loss)), valid_loss, label=\"valid loss\")\n",
    "plt.legend()\n",
    "plt.title(\"Loss\")\n",
    "plt.show()\n",
    "\n",
    "plt.plot(range(len(train_acc)), train_acc, label=\"train accuracy\")\n",
    "plt.plot(range(len(valid_acc)), valid_acc, label=\"valid accuracy\")\n",
    "plt.legend()\n",
    "plt.title(\"Accuracy\")\n",
    "plt.show()"
   ]
  },
  {
   "cell_type": "code",
   "execution_count": null,
   "metadata": {},
   "outputs": [],
   "source": []
  }
 ],
 "metadata": {
  "kernelspec": {
   "display_name": "Python 3",
   "language": "python",
   "name": "python3"
  },
  "language_info": {
   "codemirror_mode": {
    "name": "ipython",
    "version": 3
   },
   "file_extension": ".py",
   "mimetype": "text/x-python",
   "name": "python",
   "nbconvert_exporter": "python",
   "pygments_lexer": "ipython3",
   "version": "3.7.2"
  }
 },
 "nbformat": 4,
 "nbformat_minor": 2
}
