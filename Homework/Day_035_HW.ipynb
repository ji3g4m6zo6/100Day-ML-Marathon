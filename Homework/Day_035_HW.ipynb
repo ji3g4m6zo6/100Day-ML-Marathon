{
 "cells": [
  {
   "cell_type": "markdown",
   "metadata": {},
   "source": [
    "## 練習時間\n",
    "相信大家對回歸問題及分類問題都有初步的了解。今天的作業希望大家搜尋有關 multi-label 的案例問題。下圖是電影 \"奇異博士\" 的分類。可以看到同時有 \"Action\", \"Adventure\", \"Fantasy\" 的類別存在，代表這是個多標籤的問題。 "
   ]
  },
  {
   "cell_type": "markdown",
   "metadata": {},
   "source": [
    "![image](https://cdn-images-1.medium.com/max/1000/1*r0gYXMSQf5VhdMyl2bRDyg.png)"
   ]
  },
  {
   "cell_type": "markdown",
   "metadata": {},
   "source": [
    "## 請搜尋目標為多標籤問題 (Multi-label) 的機器學習案例，了解其資料來源、目標以及評估指標為何\n",
    "## Hint: 服飾\n",
    "\n",
    "書本通常並不會只有一個類別，舉例來說「[證券投資分析 : 股票與權證交易之技術分析](http://aleweb.ncl.edu.tw/F/V68LFSQAHJ1GHKNGNTAVS6GCA183VT9NJ5QNSA7LCC8QA78VT6-29138?func=full-set-set&set_number=000247&set_entry=000003&format=999)」這本書在國家圖書館中，就被歸類於『證券投資』、『投資技術』、『投資分析』三個類別。\n",
    "\n",
    "+ 資料來源：來自各大圖書館館藏資料系統\n",
    "+ 目標：透過機器學習能自動將書籍分類\n",
    "+ 評估指標：透過人工驗證\n",
    "\n",
    "[基于SVM 的中文書目自動分類及應用研究](http://www.lis.ac.cn/CN/article/downloadArticleFile.do?attachType=PDF&id=12309)"
   ]
  },
  {
   "cell_type": "markdown",
   "metadata": {},
   "source": [
    "![image](https://i.imgur.com/6legvbw.png)"
   ]
  }
 ],
 "metadata": {
  "kernelspec": {
   "display_name": "Python 3",
   "language": "python",
   "name": "python3"
  },
  "language_info": {
   "codemirror_mode": {
    "name": "ipython",
    "version": 3
   },
   "file_extension": ".py",
   "mimetype": "text/x-python",
   "name": "python",
   "nbconvert_exporter": "python",
   "pygments_lexer": "ipython3",
   "version": "3.7.2"
  }
 },
 "nbformat": 4,
 "nbformat_minor": 2
}
