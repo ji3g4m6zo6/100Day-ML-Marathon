{
 "cells": [
  {
   "cell_type": "markdown",
   "metadata": {},
   "source": [
    "## Work\n",
    "1. 請嘗試寫一個 callback 用來記錄各類別在訓練過程中，對驗證集的 True Positive 與 True Negative"
   ]
  },
  {
   "cell_type": "code",
   "execution_count": 1,
   "metadata": {},
   "outputs": [],
   "source": [
    "import os\n",
    "from tensorflow.python import keras\n",
    "\n",
    "# Disable GPU\n",
    "# os.environ[\"CUDA_VISIBLE_DEVICES\"] = \"\""
   ]
  },
  {
   "cell_type": "code",
   "execution_count": 2,
   "metadata": {},
   "outputs": [],
   "source": [
    "train, test = keras.datasets.cifar10.load_data()"
   ]
  },
  {
   "cell_type": "code",
   "execution_count": 3,
   "metadata": {},
   "outputs": [],
   "source": [
    "## 資料前處理\n",
    "def preproc_x(x, flatten=True):\n",
    "    x = x / 255.\n",
    "    if flatten:\n",
    "        x = x.reshape((len(x), -1))\n",
    "    return x\n",
    "\n",
    "def preproc_y(y, num_classes=10):\n",
    "    if y.shape[-1] == 1:\n",
    "        y = keras.utils.to_categorical(y, num_classes)\n",
    "    return y    "
   ]
  },
  {
   "cell_type": "code",
   "execution_count": 4,
   "metadata": {},
   "outputs": [],
   "source": [
    "x_train, y_train = train\n",
    "x_test, y_test = test\n",
    "\n",
    "# Preproc the inputs\n",
    "x_train = preproc_x(x_train)\n",
    "x_test = preproc_x(x_test)\n",
    "\n",
    "# Preprc the outputs\n",
    "y_train = preproc_y(y_train)\n",
    "y_test = preproc_y(y_test)"
   ]
  },
  {
   "cell_type": "code",
   "execution_count": 5,
   "metadata": {},
   "outputs": [],
   "source": [
    "from tensorflow.python.keras.layers import BatchNormalization\n",
    "\n",
    "def build_mlp(input_shape, output_units=10, num_neurons=[256, 256, 256]):\n",
    "    input_layer = keras.layers.Input(input_shape)\n",
    "    \n",
    "    for i, n_units in enumerate(num_neurons):\n",
    "        if i == 0:\n",
    "            x = keras.layers.Dense(units=n_units, \n",
    "                                   activation=\"relu\", \n",
    "                                   name=\"hidden_layer\"+str(i+1))(input_layer)\n",
    "            x = BatchNormalization()(x)\n",
    "        else:\n",
    "            x = keras.layers.Dense(units=n_units, \n",
    "                                   activation=\"relu\", \n",
    "                                   name=\"hidden_layer\"+str(i+1))(x)\n",
    "            x = BatchNormalization()(x)\n",
    "    \n",
    "    out = keras.layers.Dense(units=output_units, activation=\"softmax\", name=\"output\")(x)\n",
    "    \n",
    "    model = keras.models.Model(inputs=[input_layer], outputs=[out])\n",
    "    return model"
   ]
  },
  {
   "cell_type": "code",
   "execution_count": 6,
   "metadata": {},
   "outputs": [],
   "source": [
    "## 超參數設定\n",
    "LEARNING_RATE = 1e-3\n",
    "EPOCHS = 25\n",
    "BATCH_SIZE = 1024\n",
    "MOMENTUM = 0.95"
   ]
  },
  {
   "cell_type": "code",
   "execution_count": 7,
   "metadata": {},
   "outputs": [],
   "source": [
    "# 載入 Callbacks\n",
    "from tensorflow.python.keras.callbacks import Callback\n",
    "from sklearn.metrics import confusion_matrix\n",
    "\n",
    "\n",
    "# Record_fp_tp\n",
    "class Record_tp_tn(Callback):\n",
    "    def __init__(self, val_data, batch_size=1024):\n",
    "        super().__init__()\n",
    "        self.validation_data = val_data\n",
    "        self.batch_size = batch_size\n",
    "\n",
    "    def on_train_begin(self, epoch, logs={}):\n",
    "        logs = logs or {}\n",
    "        record_items = [\n",
    "            \"val_auc\", \"val_f1sc\", \"val_fp\", \"val_fn\", \"val_tp\", \"val_tn\"\n",
    "        ]\n",
    "        for i in record_items:\n",
    "            if i not in self.params['metrics']:\n",
    "                self.params['metrics'].append(i)\n",
    "\n",
    "    def on_epoch_end(self, epoch, logs={}, thres=0.5):\n",
    "        logs = logs or {}\n",
    "        y_true = self.validation_data[1].argmax(axis=1)\n",
    "        y_pred = self.model.predict(self.validation_data[0])\n",
    "        y_pred = (y_pred[:, 1] >= thres) * 1\n",
    "        cm = confusion_matrix(y_true, y_pred)\n",
    "        logs[\"val_tn\"], logs[\"val_fp\"], logs[\"val_fn\"], logs[\"val_tp\"] = cm[0][\n",
    "            0], cm[0][1], cm[1][0], cm[1][1]\n",
    "\n",
    "\n",
    "rec_tptn = Record_tp_tn((x_test, y_test))"
   ]
  },
  {
   "cell_type": "code",
   "execution_count": 8,
   "metadata": {
    "scrolled": true
   },
   "outputs": [
    {
     "name": "stdout",
     "output_type": "stream",
     "text": [
      "Model: \"model\"\n",
      "_________________________________________________________________\n",
      "Layer (type)                 Output Shape              Param #   \n",
      "=================================================================\n",
      "input_1 (InputLayer)         [(None, 3072)]            0         \n",
      "_________________________________________________________________\n",
      "hidden_layer1 (Dense)        (None, 256)               786688    \n",
      "_________________________________________________________________\n",
      "batch_normalization_v1 (Batc (None, 256)               1024      \n",
      "_________________________________________________________________\n",
      "hidden_layer2 (Dense)        (None, 256)               65792     \n",
      "_________________________________________________________________\n",
      "batch_normalization_v1_1 (Ba (None, 256)               1024      \n",
      "_________________________________________________________________\n",
      "hidden_layer3 (Dense)        (None, 256)               65792     \n",
      "_________________________________________________________________\n",
      "batch_normalization_v1_2 (Ba (None, 256)               1024      \n",
      "_________________________________________________________________\n",
      "output (Dense)               (None, 10)                2570      \n",
      "=================================================================\n",
      "Total params: 923,914\n",
      "Trainable params: 922,378\n",
      "Non-trainable params: 1,536\n",
      "_________________________________________________________________\n",
      "Train on 50000 samples, validate on 10000 samples\n",
      "Epoch 1/25\n",
      "50000/50000 [==============================] - 3s 51us/sample - loss: 2.2197 - acc: 0.2680 - val_loss: 2.1500 - val_acc: 0.1890 - val_fp: 0.0000e+00 - val_fn: 1000.0000 - val_tp: 0.0000e+00 - val_tn: 1000.0000\n",
      "Epoch 2/25\n",
      "50000/50000 [==============================] - 2s 34us/sample - loss: 1.7566 - acc: 0.3863 - val_loss: 1.9914 - val_acc: 0.2891 - val_fp: 0.0000e+00 - val_fn: 1000.0000 - val_tp: 0.0000e+00 - val_tn: 1000.0000\n",
      "Epoch 3/25\n",
      "50000/50000 [==============================] - 2s 34us/sample - loss: 1.6314 - acc: 0.4267 - val_loss: 1.8454 - val_acc: 0.3553 - val_fp: 0.0000e+00 - val_fn: 997.0000 - val_tp: 3.0000 - val_tn: 1000.0000\n",
      "Epoch 4/25\n",
      "50000/50000 [==============================] - 2s 34us/sample - loss: 1.5567 - acc: 0.4541 - val_loss: 1.7205 - val_acc: 0.4073 - val_fp: 0.0000e+00 - val_fn: 951.0000 - val_tp: 49.0000 - val_tn: 1000.0000\n",
      "Epoch 5/25\n",
      "50000/50000 [==============================] - 2s 35us/sample - loss: 1.5045 - acc: 0.4711 - val_loss: 1.6371 - val_acc: 0.4247 - val_fp: 1.0000 - val_fn: 890.0000 - val_tp: 110.0000 - val_tn: 999.0000\n",
      "Epoch 6/25\n",
      "50000/50000 [==============================] - 2s 34us/sample - loss: 1.4582 - acc: 0.4868 - val_loss: 1.5953 - val_acc: 0.4350 - val_fp: 3.0000 - val_fn: 809.0000 - val_tp: 191.0000 - val_tn: 997.0000\n",
      "Epoch 7/25\n",
      "50000/50000 [==============================] - 2s 35us/sample - loss: 1.4223 - acc: 0.5017 - val_loss: 1.5586 - val_acc: 0.4393 - val_fp: 8.0000 - val_fn: 744.0000 - val_tp: 256.0000 - val_tn: 992.0000\n",
      "Epoch 8/25\n",
      "50000/50000 [==============================] - 2s 36us/sample - loss: 1.3898 - acc: 0.5137 - val_loss: 1.5406 - val_acc: 0.4499 - val_fp: 7.0000 - val_fn: 728.0000 - val_tp: 272.0000 - val_tn: 993.0000\n",
      "Epoch 9/25\n",
      "50000/50000 [==============================] - 2s 34us/sample - loss: 1.3597 - acc: 0.5234 - val_loss: 1.5105 - val_acc: 0.4582 - val_fp: 17.0000 - val_fn: 585.0000 - val_tp: 415.0000 - val_tn: 983.0000\n",
      "Epoch 10/25\n",
      "50000/50000 [==============================] - 2s 35us/sample - loss: 1.3330 - acc: 0.5333 - val_loss: 1.4939 - val_acc: 0.4683 - val_fp: 18.0000 - val_fn: 599.0000 - val_tp: 401.0000 - val_tn: 982.0000\n",
      "Epoch 11/25\n",
      "50000/50000 [==============================] - 2s 34us/sample - loss: 1.3068 - acc: 0.5429 - val_loss: 1.4959 - val_acc: 0.4644 - val_fp: 14.0000 - val_fn: 587.0000 - val_tp: 413.0000 - val_tn: 986.0000\n",
      "Epoch 12/25\n",
      "50000/50000 [==============================] - 2s 34us/sample - loss: 1.2829 - acc: 0.5519 - val_loss: 1.4779 - val_acc: 0.4739 - val_fp: 19.0000 - val_fn: 593.0000 - val_tp: 407.0000 - val_tn: 981.0000\n",
      "Epoch 13/25\n",
      "50000/50000 [==============================] - 2s 34us/sample - loss: 1.2599 - acc: 0.5620 - val_loss: 1.4760 - val_acc: 0.4713 - val_fp: 15.0000 - val_fn: 560.0000 - val_tp: 440.0000 - val_tn: 985.0000\n",
      "Epoch 14/25\n",
      "50000/50000 [==============================] - 2s 34us/sample - loss: 1.2389 - acc: 0.5698 - val_loss: 1.4655 - val_acc: 0.4795 - val_fp: 15.0000 - val_fn: 575.0000 - val_tp: 425.0000 - val_tn: 985.0000\n",
      "Epoch 15/25\n",
      "50000/50000 [==============================] - 2s 34us/sample - loss: 1.2153 - acc: 0.5783 - val_loss: 1.4589 - val_acc: 0.4834 - val_fp: 17.0000 - val_fn: 562.0000 - val_tp: 438.0000 - val_tn: 983.0000\n",
      "Epoch 16/25\n",
      "50000/50000 [==============================] - 2s 34us/sample - loss: 1.1965 - acc: 0.5853 - val_loss: 1.4660 - val_acc: 0.4787 - val_fp: 23.0000 - val_fn: 503.0000 - val_tp: 497.0000 - val_tn: 977.0000\n",
      "Epoch 17/25\n",
      "50000/50000 [==============================] - 2s 34us/sample - loss: 1.1770 - acc: 0.5938 - val_loss: 1.4611 - val_acc: 0.4824 - val_fp: 16.0000 - val_fn: 608.0000 - val_tp: 392.0000 - val_tn: 984.0000\n",
      "Epoch 18/25\n",
      "50000/50000 [==============================] - 2s 35us/sample - loss: 1.1566 - acc: 0.5999 - val_loss: 1.4518 - val_acc: 0.4859 - val_fp: 15.0000 - val_fn: 548.0000 - val_tp: 452.0000 - val_tn: 985.0000\n",
      "Epoch 19/25\n",
      "50000/50000 [==============================] - 2s 35us/sample - loss: 1.1372 - acc: 0.6083 - val_loss: 1.4508 - val_acc: 0.4882 - val_fp: 19.0000 - val_fn: 515.0000 - val_tp: 485.0000 - val_tn: 981.0000\n",
      "Epoch 20/25\n",
      "50000/50000 [==============================] - 2s 34us/sample - loss: 1.1209 - acc: 0.6131 - val_loss: 1.4533 - val_acc: 0.4890 - val_fp: 26.0000 - val_fn: 525.0000 - val_tp: 475.0000 - val_tn: 974.0000\n",
      "Epoch 21/25\n",
      "50000/50000 [==============================] - 2s 35us/sample - loss: 1.1036 - acc: 0.6201 - val_loss: 1.4470 - val_acc: 0.4913 - val_fp: 13.0000 - val_fn: 534.0000 - val_tp: 466.0000 - val_tn: 987.0000\n",
      "Epoch 22/25\n",
      "50000/50000 [==============================] - 2s 34us/sample - loss: 1.0857 - acc: 0.6266 - val_loss: 1.4540 - val_acc: 0.4877 - val_fp: 20.0000 - val_fn: 513.0000 - val_tp: 487.0000 - val_tn: 980.0000\n",
      "Epoch 23/25\n",
      "50000/50000 [==============================] - 2s 34us/sample - loss: 1.0691 - acc: 0.6348 - val_loss: 1.4451 - val_acc: 0.4925 - val_fp: 23.0000 - val_fn: 522.0000 - val_tp: 478.0000 - val_tn: 977.0000\n",
      "Epoch 24/25\n",
      "50000/50000 [==============================] - 2s 34us/sample - loss: 1.0521 - acc: 0.6401 - val_loss: 1.4552 - val_acc: 0.4936 - val_fp: 12.0000 - val_fn: 567.0000 - val_tp: 433.0000 - val_tn: 988.0000\n",
      "Epoch 25/25\n",
      "50000/50000 [==============================] - 2s 34us/sample - loss: 1.0353 - acc: 0.6455 - val_loss: 1.4657 - val_acc: 0.4848 - val_fp: 15.0000 - val_fn: 550.0000 - val_tp: 450.0000 - val_tn: 985.0000\n"
     ]
    }
   ],
   "source": [
    "model = build_mlp(input_shape=x_train.shape[1:])\n",
    "model.summary()\n",
    "optimizer = keras.optimizers.SGD(lr=LEARNING_RATE, nesterov=True, momentum=MOMENTUM)\n",
    "model.compile(loss=\"categorical_crossentropy\", metrics=[\"acc\"], optimizer=optimizer)\n",
    "\n",
    "\"\"\"\n",
    "To do:\n",
    "Fit the model with rec_tptn callback_fn\n",
    "\"\"\"\n",
    "model.fit(x_train, y_train, \n",
    "          epochs=EPOCHS, \n",
    "          batch_size=BATCH_SIZE, \n",
    "          validation_data=(x_test, y_test), \n",
    "          shuffle=True,\n",
    "          callbacks=[rec_tptn]\n",
    "         )\n",
    "\n",
    "\n",
    "# Collect results\n",
    "train_loss = model.history.history[\"loss\"]\n",
    "valid_loss = model.history.history[\"val_loss\"]\n",
    "train_acc = model.history.history[\"acc\"]\n",
    "valid_acc = model.history.history[\"val_acc\"]\n",
    "\n",
    "\"\"\"\n",
    "To do:\n",
    "Collect tp/tn from model history\n",
    "\"\"\"\n",
    "valid_tp = model.history.history['val_tp']\n",
    "valid_tn = model.history.history['val_tn']"
   ]
  },
  {
   "cell_type": "code",
   "execution_count": 9,
   "metadata": {},
   "outputs": [
    {
     "data": {
      "image/png": "[encoded data removed]",
      "text/plain": [
       "<Figure size 432x288 with 1 Axes>"
      ]
     },
     "metadata": {
      "needs_background": "light"
     },
     "output_type": "display_data"
    },
    {
     "data": {
      "image/png": "[encoded data removed]",
      "text/plain": [
       "<Figure size 432x288 with 1 Axes>"
      ]
     },
     "metadata": {
      "needs_background": "light"
     },
     "output_type": "display_data"
    },
    {
     "data": {
      "image/png": "[encoded data removed]",
      "text/plain": [
       "<Figure size 432x288 with 1 Axes>"
      ]
     },
     "metadata": {
      "needs_background": "light"
     },
     "output_type": "display_data"
    }
   ],
   "source": [
    "import matplotlib.pyplot as plt\n",
    "%matplotlib inline\n",
    "\n",
    "plt.plot(range(len(train_loss)), train_loss, label=\"train loss\")\n",
    "plt.plot(range(len(valid_loss)), valid_loss, label=\"valid loss\")\n",
    "plt.legend()\n",
    "plt.title(\"Loss\")\n",
    "plt.show()\n",
    "\n",
    "plt.plot(range(len(train_acc)), train_acc, label=\"train accuracy\")\n",
    "plt.plot(range(len(valid_acc)), valid_acc, label=\"valid accuracy\")\n",
    "plt.legend()\n",
    "plt.title(\"Accuracy\")\n",
    "plt.show()\n",
    "\n",
    "plt.plot(range(len(valid_tp)), valid_tp, label=\"valid tp\", color=\"navy\")\n",
    "plt.plot(range(len(valid_tn)), valid_tn, label=\"valid tn\", color=\"red\")\n",
    "plt.legend()\n",
    "plt.title(\"True positives and True Negatives\")\n",
    "plt.show()\n"
   ]
  }
 ],
 "metadata": {
  "kernelspec": {
   "display_name": "Python 3",
   "language": "python",
   "name": "python3"
  },
  "language_info": {
   "codemirror_mode": {
    "name": "ipython",
    "version": 3
   },
   "file_extension": ".py",
   "mimetype": "text/x-python",
   "name": "python",
   "nbconvert_exporter": "python",
   "pygments_lexer": "ipython3",
   "version": "3.7.2"
  }
 },
 "nbformat": 4,
 "nbformat_minor": 2
}
